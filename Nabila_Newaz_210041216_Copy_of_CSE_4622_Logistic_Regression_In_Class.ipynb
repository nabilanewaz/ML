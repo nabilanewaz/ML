{
  "nbformat": 4,
  "nbformat_minor": 0,
  "metadata": {
    "colab": {
      "provenance": [],
      "include_colab_link": true
    },
    "kernelspec": {
      "name": "python3",
      "display_name": "Python 3"
    },
    "language_info": {
      "name": "python"
    }
  },
  "cells": [
    {
      "cell_type": "markdown",
      "metadata": {
        "id": "view-in-github",
        "colab_type": "text"
      },
      "source": [
        "<a href=\"https://colab.research.google.com/github/nabilanewaz/ML/blob/main/Nabila_Newaz_210041216_Copy_of_CSE_4622_Logistic_Regression_In_Class.ipynb\" target=\"_parent\"><img src=\"https://colab.research.google.com/assets/colab-badge.svg\" alt=\"Open In Colab\"/></a>"
      ]
    },
    {
      "cell_type": "markdown",
      "source": [
        "# Logistic Regression from Scratch"
      ],
      "metadata": {
        "id": "YYISKtZakNJA"
      }
    },
    {
      "cell_type": "markdown",
      "source": [
        "## Data"
      ],
      "metadata": {
        "id": "PGTKQYsb6rfE"
      }
    },
    {
      "cell_type": "code",
      "source": [
        "import numpy as np\n",
        "import pandas as pd\n",
        "from sklearn.model_selection import train_test_split\n",
        "from sklearn import datasets\n",
        "import matplotlib.pyplot as plt\n",
        "import seaborn as sns"
      ],
      "metadata": {
        "id": "Gm4vAfzMniEb"
      },
      "execution_count": null,
      "outputs": []
    },
    {
      "cell_type": "code",
      "source": [
        "# Data Download\n",
        "!gdown -q 11Cxt5om7r7xuWEhMWlmljX-PHag9adZq"
      ],
      "metadata": {
        "id": "RkrDAcr7ngkc"
      },
      "execution_count": null,
      "outputs": []
    },
    {
      "cell_type": "code",
      "source": [
        "## TODO: Reading the Data, and store it in 'data' variable\n",
        "data = pd.read_csv('data.csv')"
      ],
      "metadata": {
        "id": "t5XBwheUcM1l"
      },
      "execution_count": null,
      "outputs": []
    },
    {
      "cell_type": "code",
      "source": [
        "#TODO: show first 10 data\n",
        "data.head(10)"
      ],
      "metadata": {
        "id": "nFYbSFURKf7J",
        "colab": {
          "base_uri": "https://localhost:8080/",
          "height": 429
        },
        "outputId": "2b70a916-5c1a-4eab-eb8b-f52a0d620969"
      },
      "execution_count": null,
      "outputs": [
        {
          "output_type": "execute_result",
          "data": {
            "text/plain": [
              "   diagnosis  radius_mean  texture_mean  perimeter_mean  area_mean  \\\n",
              "0          1        17.99         10.38          122.80     1001.0   \n",
              "1          1        20.57         17.77          132.90     1326.0   \n",
              "2          1        19.69         21.25          130.00     1203.0   \n",
              "3          1        11.42         20.38           77.58      386.1   \n",
              "4          1        20.29         14.34          135.10     1297.0   \n",
              "5          1        12.45         15.70           82.57      477.1   \n",
              "6          1        18.25         19.98          119.60     1040.0   \n",
              "7          1        13.71         20.83           90.20      577.9   \n",
              "8          1        13.00         21.82           87.50      519.8   \n",
              "9          1        12.46         24.04           83.97      475.9   \n",
              "\n",
              "   smoothness_mean  compactness_mean  concavity_mean  concave points_mean  \\\n",
              "0          0.11840           0.27760         0.30010              0.14710   \n",
              "1          0.08474           0.07864         0.08690              0.07017   \n",
              "2          0.10960           0.15990         0.19740              0.12790   \n",
              "3          0.14250           0.28390         0.24140              0.10520   \n",
              "4          0.10030           0.13280         0.19800              0.10430   \n",
              "5          0.12780           0.17000         0.15780              0.08089   \n",
              "6          0.09463           0.10900         0.11270              0.07400   \n",
              "7          0.11890           0.16450         0.09366              0.05985   \n",
              "8          0.12730           0.19320         0.18590              0.09353   \n",
              "9          0.11860           0.23960         0.22730              0.08543   \n",
              "\n",
              "   symmetry_mean  ...  radius_worst  texture_worst  perimeter_worst  \\\n",
              "0         0.2419  ...         25.38          17.33           184.60   \n",
              "1         0.1812  ...         24.99          23.41           158.80   \n",
              "2         0.2069  ...         23.57          25.53           152.50   \n",
              "3         0.2597  ...         14.91          26.50            98.87   \n",
              "4         0.1809  ...         22.54          16.67           152.20   \n",
              "5         0.2087  ...         15.47          23.75           103.40   \n",
              "6         0.1794  ...         22.88          27.66           153.20   \n",
              "7         0.2196  ...         17.06          28.14           110.60   \n",
              "8         0.2350  ...         15.49          30.73           106.20   \n",
              "9         0.2030  ...         15.09          40.68            97.65   \n",
              "\n",
              "   area_worst  smoothness_worst  compactness_worst  concavity_worst  \\\n",
              "0      2019.0            0.1622             0.6656           0.7119   \n",
              "1      1956.0            0.1238             0.1866           0.2416   \n",
              "2      1709.0            0.1444             0.4245           0.4504   \n",
              "3       567.7            0.2098             0.8663           0.6869   \n",
              "4      1575.0            0.1374             0.2050           0.4000   \n",
              "5       741.6            0.1791             0.5249           0.5355   \n",
              "6      1606.0            0.1442             0.2576           0.3784   \n",
              "7       897.0            0.1654             0.3682           0.2678   \n",
              "8       739.3            0.1703             0.5401           0.5390   \n",
              "9       711.4            0.1853             1.0580           1.1050   \n",
              "\n",
              "   concave points_worst  symmetry_worst  fractal_dimension_worst  \n",
              "0                0.2654          0.4601                  0.11890  \n",
              "1                0.1860          0.2750                  0.08902  \n",
              "2                0.2430          0.3613                  0.08758  \n",
              "3                0.2575          0.6638                  0.17300  \n",
              "4                0.1625          0.2364                  0.07678  \n",
              "5                0.1741          0.3985                  0.12440  \n",
              "6                0.1932          0.3063                  0.08368  \n",
              "7                0.1556          0.3196                  0.11510  \n",
              "8                0.2060          0.4378                  0.10720  \n",
              "9                0.2210          0.4366                  0.20750  \n",
              "\n",
              "[10 rows x 31 columns]"
            ],
            "text/html": [
              "\n",
              "  <div id=\"df-a36ec112-a2df-4576-976a-164827f6451d\" class=\"colab-df-container\">\n",
              "    <div>\n",
              "<style scoped>\n",
              "    .dataframe tbody tr th:only-of-type {\n",
              "        vertical-align: middle;\n",
              "    }\n",
              "\n",
              "    .dataframe tbody tr th {\n",
              "        vertical-align: top;\n",
              "    }\n",
              "\n",
              "    .dataframe thead th {\n",
              "        text-align: right;\n",
              "    }\n",
              "</style>\n",
              "<table border=\"1\" class=\"dataframe\">\n",
              "  <thead>\n",
              "    <tr style=\"text-align: right;\">\n",
              "      <th></th>\n",
              "      <th>diagnosis</th>\n",
              "      <th>radius_mean</th>\n",
              "      <th>texture_mean</th>\n",
              "      <th>perimeter_mean</th>\n",
              "      <th>area_mean</th>\n",
              "      <th>smoothness_mean</th>\n",
              "      <th>compactness_mean</th>\n",
              "      <th>concavity_mean</th>\n",
              "      <th>concave points_mean</th>\n",
              "      <th>symmetry_mean</th>\n",
              "      <th>...</th>\n",
              "      <th>radius_worst</th>\n",
              "      <th>texture_worst</th>\n",
              "      <th>perimeter_worst</th>\n",
              "      <th>area_worst</th>\n",
              "      <th>smoothness_worst</th>\n",
              "      <th>compactness_worst</th>\n",
              "      <th>concavity_worst</th>\n",
              "      <th>concave points_worst</th>\n",
              "      <th>symmetry_worst</th>\n",
              "      <th>fractal_dimension_worst</th>\n",
              "    </tr>\n",
              "  </thead>\n",
              "  <tbody>\n",
              "    <tr>\n",
              "      <th>0</th>\n",
              "      <td>1</td>\n",
              "      <td>17.99</td>\n",
              "      <td>10.38</td>\n",
              "      <td>122.80</td>\n",
              "      <td>1001.0</td>\n",
              "      <td>0.11840</td>\n",
              "      <td>0.27760</td>\n",
              "      <td>0.30010</td>\n",
              "      <td>0.14710</td>\n",
              "      <td>0.2419</td>\n",
              "      <td>...</td>\n",
              "      <td>25.38</td>\n",
              "      <td>17.33</td>\n",
              "      <td>184.60</td>\n",
              "      <td>2019.0</td>\n",
              "      <td>0.1622</td>\n",
              "      <td>0.6656</td>\n",
              "      <td>0.7119</td>\n",
              "      <td>0.2654</td>\n",
              "      <td>0.4601</td>\n",
              "      <td>0.11890</td>\n",
              "    </tr>\n",
              "    <tr>\n",
              "      <th>1</th>\n",
              "      <td>1</td>\n",
              "      <td>20.57</td>\n",
              "      <td>17.77</td>\n",
              "      <td>132.90</td>\n",
              "      <td>1326.0</td>\n",
              "      <td>0.08474</td>\n",
              "      <td>0.07864</td>\n",
              "      <td>0.08690</td>\n",
              "      <td>0.07017</td>\n",
              "      <td>0.1812</td>\n",
              "      <td>...</td>\n",
              "      <td>24.99</td>\n",
              "      <td>23.41</td>\n",
              "      <td>158.80</td>\n",
              "      <td>1956.0</td>\n",
              "      <td>0.1238</td>\n",
              "      <td>0.1866</td>\n",
              "      <td>0.2416</td>\n",
              "      <td>0.1860</td>\n",
              "      <td>0.2750</td>\n",
              "      <td>0.08902</td>\n",
              "    </tr>\n",
              "    <tr>\n",
              "      <th>2</th>\n",
              "      <td>1</td>\n",
              "      <td>19.69</td>\n",
              "      <td>21.25</td>\n",
              "      <td>130.00</td>\n",
              "      <td>1203.0</td>\n",
              "      <td>0.10960</td>\n",
              "      <td>0.15990</td>\n",
              "      <td>0.19740</td>\n",
              "      <td>0.12790</td>\n",
              "      <td>0.2069</td>\n",
              "      <td>...</td>\n",
              "      <td>23.57</td>\n",
              "      <td>25.53</td>\n",
              "      <td>152.50</td>\n",
              "      <td>1709.0</td>\n",
              "      <td>0.1444</td>\n",
              "      <td>0.4245</td>\n",
              "      <td>0.4504</td>\n",
              "      <td>0.2430</td>\n",
              "      <td>0.3613</td>\n",
              "      <td>0.08758</td>\n",
              "    </tr>\n",
              "    <tr>\n",
              "      <th>3</th>\n",
              "      <td>1</td>\n",
              "      <td>11.42</td>\n",
              "      <td>20.38</td>\n",
              "      <td>77.58</td>\n",
              "      <td>386.1</td>\n",
              "      <td>0.14250</td>\n",
              "      <td>0.28390</td>\n",
              "      <td>0.24140</td>\n",
              "      <td>0.10520</td>\n",
              "      <td>0.2597</td>\n",
              "      <td>...</td>\n",
              "      <td>14.91</td>\n",
              "      <td>26.50</td>\n",
              "      <td>98.87</td>\n",
              "      <td>567.7</td>\n",
              "      <td>0.2098</td>\n",
              "      <td>0.8663</td>\n",
              "      <td>0.6869</td>\n",
              "      <td>0.2575</td>\n",
              "      <td>0.6638</td>\n",
              "      <td>0.17300</td>\n",
              "    </tr>\n",
              "    <tr>\n",
              "      <th>4</th>\n",
              "      <td>1</td>\n",
              "      <td>20.29</td>\n",
              "      <td>14.34</td>\n",
              "      <td>135.10</td>\n",
              "      <td>1297.0</td>\n",
              "      <td>0.10030</td>\n",
              "      <td>0.13280</td>\n",
              "      <td>0.19800</td>\n",
              "      <td>0.10430</td>\n",
              "      <td>0.1809</td>\n",
              "      <td>...</td>\n",
              "      <td>22.54</td>\n",
              "      <td>16.67</td>\n",
              "      <td>152.20</td>\n",
              "      <td>1575.0</td>\n",
              "      <td>0.1374</td>\n",
              "      <td>0.2050</td>\n",
              "      <td>0.4000</td>\n",
              "      <td>0.1625</td>\n",
              "      <td>0.2364</td>\n",
              "      <td>0.07678</td>\n",
              "    </tr>\n",
              "    <tr>\n",
              "      <th>5</th>\n",
              "      <td>1</td>\n",
              "      <td>12.45</td>\n",
              "      <td>15.70</td>\n",
              "      <td>82.57</td>\n",
              "      <td>477.1</td>\n",
              "      <td>0.12780</td>\n",
              "      <td>0.17000</td>\n",
              "      <td>0.15780</td>\n",
              "      <td>0.08089</td>\n",
              "      <td>0.2087</td>\n",
              "      <td>...</td>\n",
              "      <td>15.47</td>\n",
              "      <td>23.75</td>\n",
              "      <td>103.40</td>\n",
              "      <td>741.6</td>\n",
              "      <td>0.1791</td>\n",
              "      <td>0.5249</td>\n",
              "      <td>0.5355</td>\n",
              "      <td>0.1741</td>\n",
              "      <td>0.3985</td>\n",
              "      <td>0.12440</td>\n",
              "    </tr>\n",
              "    <tr>\n",
              "      <th>6</th>\n",
              "      <td>1</td>\n",
              "      <td>18.25</td>\n",
              "      <td>19.98</td>\n",
              "      <td>119.60</td>\n",
              "      <td>1040.0</td>\n",
              "      <td>0.09463</td>\n",
              "      <td>0.10900</td>\n",
              "      <td>0.11270</td>\n",
              "      <td>0.07400</td>\n",
              "      <td>0.1794</td>\n",
              "      <td>...</td>\n",
              "      <td>22.88</td>\n",
              "      <td>27.66</td>\n",
              "      <td>153.20</td>\n",
              "      <td>1606.0</td>\n",
              "      <td>0.1442</td>\n",
              "      <td>0.2576</td>\n",
              "      <td>0.3784</td>\n",
              "      <td>0.1932</td>\n",
              "      <td>0.3063</td>\n",
              "      <td>0.08368</td>\n",
              "    </tr>\n",
              "    <tr>\n",
              "      <th>7</th>\n",
              "      <td>1</td>\n",
              "      <td>13.71</td>\n",
              "      <td>20.83</td>\n",
              "      <td>90.20</td>\n",
              "      <td>577.9</td>\n",
              "      <td>0.11890</td>\n",
              "      <td>0.16450</td>\n",
              "      <td>0.09366</td>\n",
              "      <td>0.05985</td>\n",
              "      <td>0.2196</td>\n",
              "      <td>...</td>\n",
              "      <td>17.06</td>\n",
              "      <td>28.14</td>\n",
              "      <td>110.60</td>\n",
              "      <td>897.0</td>\n",
              "      <td>0.1654</td>\n",
              "      <td>0.3682</td>\n",
              "      <td>0.2678</td>\n",
              "      <td>0.1556</td>\n",
              "      <td>0.3196</td>\n",
              "      <td>0.11510</td>\n",
              "    </tr>\n",
              "    <tr>\n",
              "      <th>8</th>\n",
              "      <td>1</td>\n",
              "      <td>13.00</td>\n",
              "      <td>21.82</td>\n",
              "      <td>87.50</td>\n",
              "      <td>519.8</td>\n",
              "      <td>0.12730</td>\n",
              "      <td>0.19320</td>\n",
              "      <td>0.18590</td>\n",
              "      <td>0.09353</td>\n",
              "      <td>0.2350</td>\n",
              "      <td>...</td>\n",
              "      <td>15.49</td>\n",
              "      <td>30.73</td>\n",
              "      <td>106.20</td>\n",
              "      <td>739.3</td>\n",
              "      <td>0.1703</td>\n",
              "      <td>0.5401</td>\n",
              "      <td>0.5390</td>\n",
              "      <td>0.2060</td>\n",
              "      <td>0.4378</td>\n",
              "      <td>0.10720</td>\n",
              "    </tr>\n",
              "    <tr>\n",
              "      <th>9</th>\n",
              "      <td>1</td>\n",
              "      <td>12.46</td>\n",
              "      <td>24.04</td>\n",
              "      <td>83.97</td>\n",
              "      <td>475.9</td>\n",
              "      <td>0.11860</td>\n",
              "      <td>0.23960</td>\n",
              "      <td>0.22730</td>\n",
              "      <td>0.08543</td>\n",
              "      <td>0.2030</td>\n",
              "      <td>...</td>\n",
              "      <td>15.09</td>\n",
              "      <td>40.68</td>\n",
              "      <td>97.65</td>\n",
              "      <td>711.4</td>\n",
              "      <td>0.1853</td>\n",
              "      <td>1.0580</td>\n",
              "      <td>1.1050</td>\n",
              "      <td>0.2210</td>\n",
              "      <td>0.4366</td>\n",
              "      <td>0.20750</td>\n",
              "    </tr>\n",
              "  </tbody>\n",
              "</table>\n",
              "<p>10 rows × 31 columns</p>\n",
              "</div>\n",
              "    <div class=\"colab-df-buttons\">\n",
              "\n",
              "  <div class=\"colab-df-container\">\n",
              "    <button class=\"colab-df-convert\" onclick=\"convertToInteractive('df-a36ec112-a2df-4576-976a-164827f6451d')\"\n",
              "            title=\"Convert this dataframe to an interactive table.\"\n",
              "            style=\"display:none;\">\n",
              "\n",
              "  <svg xmlns=\"http://www.w3.org/2000/svg\" height=\"24px\" viewBox=\"0 -960 960 960\">\n",
              "    <path d=\"M120-120v-720h720v720H120Zm60-500h600v-160H180v160Zm220 220h160v-160H400v160Zm0 220h160v-160H400v160ZM180-400h160v-160H180v160Zm440 0h160v-160H620v160ZM180-180h160v-160H180v160Zm440 0h160v-160H620v160Z\"/>\n",
              "  </svg>\n",
              "    </button>\n",
              "\n",
              "  <style>\n",
              "    .colab-df-container {\n",
              "      display:flex;\n",
              "      gap: 12px;\n",
              "    }\n",
              "\n",
              "    .colab-df-convert {\n",
              "      background-color: #E8F0FE;\n",
              "      border: none;\n",
              "      border-radius: 50%;\n",
              "      cursor: pointer;\n",
              "      display: none;\n",
              "      fill: #1967D2;\n",
              "      height: 32px;\n",
              "      padding: 0 0 0 0;\n",
              "      width: 32px;\n",
              "    }\n",
              "\n",
              "    .colab-df-convert:hover {\n",
              "      background-color: #E2EBFA;\n",
              "      box-shadow: 0px 1px 2px rgba(60, 64, 67, 0.3), 0px 1px 3px 1px rgba(60, 64, 67, 0.15);\n",
              "      fill: #174EA6;\n",
              "    }\n",
              "\n",
              "    .colab-df-buttons div {\n",
              "      margin-bottom: 4px;\n",
              "    }\n",
              "\n",
              "    [theme=dark] .colab-df-convert {\n",
              "      background-color: #3B4455;\n",
              "      fill: #D2E3FC;\n",
              "    }\n",
              "\n",
              "    [theme=dark] .colab-df-convert:hover {\n",
              "      background-color: #434B5C;\n",
              "      box-shadow: 0px 1px 3px 1px rgba(0, 0, 0, 0.15);\n",
              "      filter: drop-shadow(0px 1px 2px rgba(0, 0, 0, 0.3));\n",
              "      fill: #FFFFFF;\n",
              "    }\n",
              "  </style>\n",
              "\n",
              "    <script>\n",
              "      const buttonEl =\n",
              "        document.querySelector('#df-a36ec112-a2df-4576-976a-164827f6451d button.colab-df-convert');\n",
              "      buttonEl.style.display =\n",
              "        google.colab.kernel.accessAllowed ? 'block' : 'none';\n",
              "\n",
              "      async function convertToInteractive(key) {\n",
              "        const element = document.querySelector('#df-a36ec112-a2df-4576-976a-164827f6451d');\n",
              "        const dataTable =\n",
              "          await google.colab.kernel.invokeFunction('convertToInteractive',\n",
              "                                                    [key], {});\n",
              "        if (!dataTable) return;\n",
              "\n",
              "        const docLinkHtml = 'Like what you see? Visit the ' +\n",
              "          '<a target=\"_blank\" href=https://colab.research.google.com/notebooks/data_table.ipynb>data table notebook</a>'\n",
              "          + ' to learn more about interactive tables.';\n",
              "        element.innerHTML = '';\n",
              "        dataTable['output_type'] = 'display_data';\n",
              "        await google.colab.output.renderOutput(dataTable, element);\n",
              "        const docLink = document.createElement('div');\n",
              "        docLink.innerHTML = docLinkHtml;\n",
              "        element.appendChild(docLink);\n",
              "      }\n",
              "    </script>\n",
              "  </div>\n",
              "\n",
              "\n",
              "    <div id=\"df-6844eb38-63f4-465a-a356-8295c33dae0c\">\n",
              "      <button class=\"colab-df-quickchart\" onclick=\"quickchart('df-6844eb38-63f4-465a-a356-8295c33dae0c')\"\n",
              "                title=\"Suggest charts\"\n",
              "                style=\"display:none;\">\n",
              "\n",
              "<svg xmlns=\"http://www.w3.org/2000/svg\" height=\"24px\"viewBox=\"0 0 24 24\"\n",
              "     width=\"24px\">\n",
              "    <g>\n",
              "        <path d=\"M19 3H5c-1.1 0-2 .9-2 2v14c0 1.1.9 2 2 2h14c1.1 0 2-.9 2-2V5c0-1.1-.9-2-2-2zM9 17H7v-7h2v7zm4 0h-2V7h2v10zm4 0h-2v-4h2v4z\"/>\n",
              "    </g>\n",
              "</svg>\n",
              "      </button>\n",
              "\n",
              "<style>\n",
              "  .colab-df-quickchart {\n",
              "      --bg-color: #E8F0FE;\n",
              "      --fill-color: #1967D2;\n",
              "      --hover-bg-color: #E2EBFA;\n",
              "      --hover-fill-color: #174EA6;\n",
              "      --disabled-fill-color: #AAA;\n",
              "      --disabled-bg-color: #DDD;\n",
              "  }\n",
              "\n",
              "  [theme=dark] .colab-df-quickchart {\n",
              "      --bg-color: #3B4455;\n",
              "      --fill-color: #D2E3FC;\n",
              "      --hover-bg-color: #434B5C;\n",
              "      --hover-fill-color: #FFFFFF;\n",
              "      --disabled-bg-color: #3B4455;\n",
              "      --disabled-fill-color: #666;\n",
              "  }\n",
              "\n",
              "  .colab-df-quickchart {\n",
              "    background-color: var(--bg-color);\n",
              "    border: none;\n",
              "    border-radius: 50%;\n",
              "    cursor: pointer;\n",
              "    display: none;\n",
              "    fill: var(--fill-color);\n",
              "    height: 32px;\n",
              "    padding: 0;\n",
              "    width: 32px;\n",
              "  }\n",
              "\n",
              "  .colab-df-quickchart:hover {\n",
              "    background-color: var(--hover-bg-color);\n",
              "    box-shadow: 0 1px 2px rgba(60, 64, 67, 0.3), 0 1px 3px 1px rgba(60, 64, 67, 0.15);\n",
              "    fill: var(--button-hover-fill-color);\n",
              "  }\n",
              "\n",
              "  .colab-df-quickchart-complete:disabled,\n",
              "  .colab-df-quickchart-complete:disabled:hover {\n",
              "    background-color: var(--disabled-bg-color);\n",
              "    fill: var(--disabled-fill-color);\n",
              "    box-shadow: none;\n",
              "  }\n",
              "\n",
              "  .colab-df-spinner {\n",
              "    border: 2px solid var(--fill-color);\n",
              "    border-color: transparent;\n",
              "    border-bottom-color: var(--fill-color);\n",
              "    animation:\n",
              "      spin 1s steps(1) infinite;\n",
              "  }\n",
              "\n",
              "  @keyframes spin {\n",
              "    0% {\n",
              "      border-color: transparent;\n",
              "      border-bottom-color: var(--fill-color);\n",
              "      border-left-color: var(--fill-color);\n",
              "    }\n",
              "    20% {\n",
              "      border-color: transparent;\n",
              "      border-left-color: var(--fill-color);\n",
              "      border-top-color: var(--fill-color);\n",
              "    }\n",
              "    30% {\n",
              "      border-color: transparent;\n",
              "      border-left-color: var(--fill-color);\n",
              "      border-top-color: var(--fill-color);\n",
              "      border-right-color: var(--fill-color);\n",
              "    }\n",
              "    40% {\n",
              "      border-color: transparent;\n",
              "      border-right-color: var(--fill-color);\n",
              "      border-top-color: var(--fill-color);\n",
              "    }\n",
              "    60% {\n",
              "      border-color: transparent;\n",
              "      border-right-color: var(--fill-color);\n",
              "    }\n",
              "    80% {\n",
              "      border-color: transparent;\n",
              "      border-right-color: var(--fill-color);\n",
              "      border-bottom-color: var(--fill-color);\n",
              "    }\n",
              "    90% {\n",
              "      border-color: transparent;\n",
              "      border-bottom-color: var(--fill-color);\n",
              "    }\n",
              "  }\n",
              "</style>\n",
              "\n",
              "      <script>\n",
              "        async function quickchart(key) {\n",
              "          const quickchartButtonEl =\n",
              "            document.querySelector('#' + key + ' button');\n",
              "          quickchartButtonEl.disabled = true;  // To prevent multiple clicks.\n",
              "          quickchartButtonEl.classList.add('colab-df-spinner');\n",
              "          try {\n",
              "            const charts = await google.colab.kernel.invokeFunction(\n",
              "                'suggestCharts', [key], {});\n",
              "          } catch (error) {\n",
              "            console.error('Error during call to suggestCharts:', error);\n",
              "          }\n",
              "          quickchartButtonEl.classList.remove('colab-df-spinner');\n",
              "          quickchartButtonEl.classList.add('colab-df-quickchart-complete');\n",
              "        }\n",
              "        (() => {\n",
              "          let quickchartButtonEl =\n",
              "            document.querySelector('#df-6844eb38-63f4-465a-a356-8295c33dae0c button');\n",
              "          quickchartButtonEl.style.display =\n",
              "            google.colab.kernel.accessAllowed ? 'block' : 'none';\n",
              "        })();\n",
              "      </script>\n",
              "    </div>\n",
              "\n",
              "    </div>\n",
              "  </div>\n"
            ],
            "application/vnd.google.colaboratory.intrinsic+json": {
              "type": "dataframe",
              "variable_name": "data"
            }
          },
          "metadata": {},
          "execution_count": 118
        }
      ]
    },
    {
      "cell_type": "code",
      "source": [
        "## TODO: print data shape\n",
        "data.shape"
      ],
      "metadata": {
        "id": "OLVD3g2nor4Y",
        "colab": {
          "base_uri": "https://localhost:8080/"
        },
        "outputId": "c8427414-1af5-4b85-8fca-3318a546a8f7"
      },
      "execution_count": null,
      "outputs": [
        {
          "output_type": "execute_result",
          "data": {
            "text/plain": [
              "(569, 33)"
            ]
          },
          "metadata": {},
          "execution_count": 13
        }
      ]
    },
    {
      "cell_type": "code",
      "source": [
        "## check whether the data variable has a shape of (569, 33). will show assertion error if not.\n",
        "assert data.shape == (569, 33)"
      ],
      "metadata": {
        "id": "vkxsCvfl-BQH"
      },
      "execution_count": null,
      "outputs": []
    },
    {
      "cell_type": "code",
      "source": [
        "## TODO: show data columns\n",
        "data.columns"
      ],
      "metadata": {
        "id": "AMZq6svjvuHU",
        "colab": {
          "base_uri": "https://localhost:8080/"
        },
        "outputId": "0dc16c6b-35cc-4ed5-ebdc-dc38337b4ae1"
      },
      "execution_count": null,
      "outputs": [
        {
          "output_type": "execute_result",
          "data": {
            "text/plain": [
              "Index(['id', 'diagnosis', 'radius_mean', 'texture_mean', 'perimeter_mean',\n",
              "       'area_mean', 'smoothness_mean', 'compactness_mean', 'concavity_mean',\n",
              "       'concave points_mean', 'symmetry_mean', 'fractal_dimension_mean',\n",
              "       'radius_se', 'texture_se', 'perimeter_se', 'area_se', 'smoothness_se',\n",
              "       'compactness_se', 'concavity_se', 'concave points_se', 'symmetry_se',\n",
              "       'fractal_dimension_se', 'radius_worst', 'texture_worst',\n",
              "       'perimeter_worst', 'area_worst', 'smoothness_worst',\n",
              "       'compactness_worst', 'concavity_worst', 'concave points_worst',\n",
              "       'symmetry_worst', 'fractal_dimension_worst', 'Unnamed: 32'],\n",
              "      dtype='object')"
            ]
          },
          "metadata": {},
          "execution_count": 15
        }
      ]
    },
    {
      "cell_type": "code",
      "source": [
        "data.info()"
      ],
      "metadata": {
        "id": "kf1ejfuM_EhP",
        "colab": {
          "base_uri": "https://localhost:8080/"
        },
        "outputId": "09a915a8-31ee-491c-dd6b-e80ba434104c"
      },
      "execution_count": null,
      "outputs": [
        {
          "output_type": "stream",
          "name": "stdout",
          "text": [
            "<class 'pandas.core.frame.DataFrame'>\n",
            "RangeIndex: 569 entries, 0 to 568\n",
            "Data columns (total 33 columns):\n",
            " #   Column                   Non-Null Count  Dtype  \n",
            "---  ------                   --------------  -----  \n",
            " 0   id                       569 non-null    int64  \n",
            " 1   diagnosis                569 non-null    object \n",
            " 2   radius_mean              569 non-null    float64\n",
            " 3   texture_mean             569 non-null    float64\n",
            " 4   perimeter_mean           569 non-null    float64\n",
            " 5   area_mean                569 non-null    float64\n",
            " 6   smoothness_mean          569 non-null    float64\n",
            " 7   compactness_mean         569 non-null    float64\n",
            " 8   concavity_mean           569 non-null    float64\n",
            " 9   concave points_mean      569 non-null    float64\n",
            " 10  symmetry_mean            569 non-null    float64\n",
            " 11  fractal_dimension_mean   569 non-null    float64\n",
            " 12  radius_se                569 non-null    float64\n",
            " 13  texture_se               569 non-null    float64\n",
            " 14  perimeter_se             569 non-null    float64\n",
            " 15  area_se                  569 non-null    float64\n",
            " 16  smoothness_se            569 non-null    float64\n",
            " 17  compactness_se           569 non-null    float64\n",
            " 18  concavity_se             569 non-null    float64\n",
            " 19  concave points_se        569 non-null    float64\n",
            " 20  symmetry_se              569 non-null    float64\n",
            " 21  fractal_dimension_se     569 non-null    float64\n",
            " 22  radius_worst             569 non-null    float64\n",
            " 23  texture_worst            569 non-null    float64\n",
            " 24  perimeter_worst          569 non-null    float64\n",
            " 25  area_worst               569 non-null    float64\n",
            " 26  smoothness_worst         569 non-null    float64\n",
            " 27  compactness_worst        569 non-null    float64\n",
            " 28  concavity_worst          569 non-null    float64\n",
            " 29  concave points_worst     569 non-null    float64\n",
            " 30  symmetry_worst           569 non-null    float64\n",
            " 31  fractal_dimension_worst  569 non-null    float64\n",
            " 32  Unnamed: 32              0 non-null      float64\n",
            "dtypes: float64(31), int64(1), object(1)\n",
            "memory usage: 146.8+ KB\n"
          ]
        }
      ]
    },
    {
      "cell_type": "code",
      "source": [
        "## TODO: drop 'Unnamed: 32' and \"id\" from the dataframe\n",
        "data = data.drop(['Unnamed: 32', 'id'], axis=1)"
      ],
      "metadata": {
        "id": "Mg_VOafgvyTb"
      },
      "execution_count": null,
      "outputs": []
    },
    {
      "cell_type": "code",
      "source": [
        "## TODO: find the labels from diagnosis column\n",
        "data.diagnosis.unique()"
      ],
      "metadata": {
        "id": "wCD9uB4wp-MC",
        "colab": {
          "base_uri": "https://localhost:8080/"
        },
        "outputId": "ad032484-2b79-41ad-b69a-1e6dffa4a644"
      },
      "execution_count": null,
      "outputs": [
        {
          "output_type": "execute_result",
          "data": {
            "text/plain": [
              "array(['M', 'B'], dtype=object)"
            ]
          },
          "metadata": {},
          "execution_count": 19
        }
      ]
    },
    {
      "cell_type": "code",
      "source": [
        "## TODO: convert each value of diagnose to numerical 0 or 1\n",
        "data['diagnosis'] = data['diagnosis'].map({'M': 1, 'B': 0})"
      ],
      "metadata": {
        "id": "P4JQ9BDccIaE"
      },
      "execution_count": null,
      "outputs": []
    },
    {
      "cell_type": "code",
      "source": [
        "# data load\n",
        "\n",
        "y = data.diagnosis.values\n",
        "X = data.drop(['diagnosis'], axis=1)\n",
        "print(X.shape, y.shape)"
      ],
      "metadata": {
        "id": "1Som-pRubTvq",
        "colab": {
          "base_uri": "https://localhost:8080/"
        },
        "outputId": "dc59f872-db4f-414b-cb46-893a1a1a9249"
      },
      "execution_count": null,
      "outputs": [
        {
          "output_type": "stream",
          "name": "stdout",
          "text": [
            "(569, 30) (569,)\n"
          ]
        }
      ]
    },
    {
      "cell_type": "markdown",
      "source": [
        "## Data Modifications"
      ],
      "metadata": {
        "id": "Bi22nI526wpt"
      }
    },
    {
      "cell_type": "markdown",
      "source": [
        "**Normalization**\n",
        "\n",
        "Normalization refers to rescaling real-valued numeric attributes into a 0 to 1 range. Data normalization is used in machine learning to make model training less sensitive to the scale of features."
      ],
      "metadata": {
        "id": "DE_JQO8cyF7s"
      }
    },
    {
      "cell_type": "code",
      "source": [
        "## Normalization\n",
        "\n",
        "# Using transformer from sklearn library\n",
        "from sklearn.preprocessing import MinMaxScaler\n",
        "scalar = MinMaxScaler()\n",
        "output_X = scalar.fit_transform(X)\n",
        "\n",
        "# Manual Implementation of the normalization process\n",
        "# dummy_X = (X -np.min(X))/ (np.max(X)-np.min(X)).values"
      ],
      "metadata": {
        "id": "psTHjXIMwCyc"
      },
      "execution_count": null,
      "outputs": []
    },
    {
      "cell_type": "code",
      "source": [
        "## TODO: perform train test split with test size of around 15%\n",
        "X_train, X_test, y_train, y_test = train_test_split(output_X, y, test_size=0.15, random_state=42)"
      ],
      "metadata": {
        "id": "3AvQjk59waC1"
      },
      "execution_count": null,
      "outputs": []
    },
    {
      "cell_type": "markdown",
      "source": [
        "## Model"
      ],
      "metadata": {
        "id": "8dJkKxaGyXJC"
      }
    },
    {
      "cell_type": "markdown",
      "source": [
        "![Screenshot 2023-01-16 at 2.26.27 PM.png](data:image/png;base64,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)"
      ],
      "metadata": {
        "id": "iU0UvWJ_sEno"
      }
    },
    {
      "cell_type": "markdown",
      "source": [
        "**Sigmoid Function**\n",
        "\n",
        "This predicted response value, denoted by z is then converted into a probability value that lie between 0 and 1. We use the sigmoid function in order to map predicted values to probability values. This sigmoid function then maps any real value into a probability value between 0 and 1.\n",
        "\n",
        "In machine learning, sigmoid function is used to map predictions to probabilities. The sigmoid function has an S shaped curve. It is also called sigmoid curve.\n",
        "\n",
        "A Sigmoid function is a special case of the Logistic function. It is given by the following mathematical formula.\n",
        "\n",
        "Graphically, we can represent sigmoid function with the following graph.\n",
        "\n",
        "![Screenshot 2024-02-07 020235.png](data:image/png;base64,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)"
      ],
      "metadata": {
        "id": "7hCCvNVlBqhF"
      }
    },
    {
      "cell_type": "markdown",
      "source": [
        "**Decision boundary**\n",
        "\n",
        "The sigmoid function returns a probability value between 0 and 1. This probability value is then mapped to a discrete class which is either “0” or “1”. In order to map this probability value to a discrete class (pass/fail, yes/no, true/false), we select a threshold value. This threshold value is called Decision boundary. Above this threshold value, we will map the probability values into class 1 and below which we will map values into class 0.\n",
        "\n",
        "Mathematically, it can be expressed as follows:-\n",
        "\n",
        "p ≥ 0.5 => class = 1\n",
        "\n",
        "p < 0.5 => class = 0\n",
        "\n",
        "Generally, the decision boundary is set to 0.5. So, if the probability value is 0.8 (> 0.5), we will map this observation to class 1. Similarly, if the probability value is 0.2 (< 0.5), we will map this observation to class 0. This is represented in the graph below\n",
        "\n",
        "![Screenshot 2024-02-07 020329.png](data:image/png;base64,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)"
      ],
      "metadata": {
        "id": "pDPYI-ofBEON"
      }
    },
    {
      "cell_type": "code",
      "source": [
        "class LogisticRegression:\n",
        "\n",
        "  def __init__(self, lr=0.01, n_iters = 100):\n",
        "    self.lr = lr\n",
        "    self.n_iters = n_iters\n",
        "    self.weights = None\n",
        "    self.bias = None\n",
        "    self.cost_list = []\n",
        "\n",
        "  def fit(self, X, y):\n",
        "    n_samples, f_features = X.shape\n",
        "\n",
        "    self.weights = np.zeros(f_features)\n",
        "    self.bias = 0\n",
        "\n",
        "    for i in range(self.n_iters):\n",
        "      z = np.dot(X, self.weights) + self.bias\n",
        "      y_predicted = self.sigmoid(z)\n",
        "      cost = - np.mean(y*np.log(y_predicted) + (1-y)*np.log(1-y_predicted))\n",
        "      self.cost_list.append(cost)\n",
        "      dw = (1/n_samples)* np.dot(X.T, (y_predicted - y))\n",
        "      db = (1/n_samples)* np.sum(y_predicted - y)\n",
        "      self.weights -= self.lr * dw\n",
        "      self.bias -= self.lr * db\n",
        "\n",
        "  def predict_probability(self, X):\n",
        "    z = np.dot(X, self.weights) + self.bias\n",
        "    y_predicted = self.sigmoid(z)\n",
        "    return y_predicted\n",
        "\n",
        "  def predict(self, X):\n",
        "    z = np.dot(X, self.weights) + self.bias\n",
        "    y_predicted = self.sigmoid(z)\n",
        "    y_predicted_cls = [1 if i >= 0.5 else 0 for i in y_predicted]\n",
        "    return y_predicted_cls\n",
        "\n",
        "  def sigmoid(self, z):\n",
        "    return 1 / (1 + np.exp(-z))\n",
        "\n",
        "  def plot_train_cost(self):\n",
        "    plt.plot(self.cost_list)\n",
        "    plt.xlabel(\"Iterations\")\n",
        "    plt.ylabel(\"Cost\")\n",
        "    plt.show()"
      ],
      "metadata": {
        "id": "-FQ3FwOPGri8"
      },
      "execution_count": null,
      "outputs": []
    },
    {
      "cell_type": "code",
      "source": [
        "regressor = LogisticRegression(lr = 0.1, n_iters = 10000)\n",
        "regressor.fit(X_train, y_train)"
      ],
      "metadata": {
        "id": "e4ZFpSmDo-dw"
      },
      "execution_count": null,
      "outputs": []
    },
    {
      "cell_type": "code",
      "source": [
        "regressor.plot_train_cost()"
      ],
      "metadata": {
        "id": "Y138eqa5vpDu",
        "colab": {
          "base_uri": "https://localhost:8080/",
          "height": 449
        },
        "outputId": "f018b830-6574-4098-ee69-2099a91e1b05"
      },
      "execution_count": null,
      "outputs": [
        {
          "output_type": "display_data",
          "data": {
            "text/plain": [
              "<Figure size 640x480 with 1 Axes>"
            ],
            "image/png": "[encoded data removed]"
          },
          "metadata": {}
        }
      ]
    },
    {
      "cell_type": "code",
      "source": [
        "predicted = regressor.predict(X_test)"
      ],
      "metadata": {
        "id": "kOrce5czvrVk"
      },
      "execution_count": null,
      "outputs": []
    },
    {
      "cell_type": "code",
      "source": [
        "def mse(y_true, y_predicted):\n",
        "    return np.mean((y_true - y_predicted)**2)\n",
        "mse(y_test, predicted)"
      ],
      "metadata": {
        "id": "Vg0I8ijDpWMp",
        "colab": {
          "base_uri": "https://localhost:8080/"
        },
        "outputId": "43343088-4185-4613-a52e-094f8942c4ff"
      },
      "execution_count": null,
      "outputs": [
        {
          "output_type": "execute_result",
          "data": {
            "text/plain": [
              "np.float64(0.023255813953488372)"
            ]
          },
          "metadata": {},
          "execution_count": 136
        }
      ]
    },
    {
      "cell_type": "code",
      "source": [
        "percent = 100 - np.mean(np.abs(predicted - y_test)) * 100\n",
        "print(f\"test accuracy: {percent} %\")"
      ],
      "metadata": {
        "id": "-CcMKnIrpkGT",
        "colab": {
          "base_uri": "https://localhost:8080/"
        },
        "outputId": "e54717f5-ac9c-4661-db62-7ac50097b7f1"
      },
      "execution_count": null,
      "outputs": [
        {
          "output_type": "stream",
          "name": "stdout",
          "text": [
            "test accuracy: 97.67441860465117 %\n"
          ]
        }
      ]
    },
    {
      "cell_type": "markdown",
      "source": [
        "### metrics"
      ],
      "metadata": {
        "id": "C0Sb_uZZ6m3M"
      }
    },
    {
      "cell_type": "code",
      "source": [
        "from sklearn.metrics import confusion_matrix, classification_report\n",
        "\n",
        "cm = confusion_matrix(y_test, predicted)\n",
        "print(cm)"
      ],
      "metadata": {
        "id": "MF_j_tM1b1Cs",
        "colab": {
          "base_uri": "https://localhost:8080/"
        },
        "outputId": "aff766c0-16f8-452b-d2d4-2abca5c91cbb"
      },
      "execution_count": null,
      "outputs": [
        {
          "output_type": "stream",
          "name": "stdout",
          "text": [
            "[[54  0]\n",
            " [ 2 30]]\n"
          ]
        }
      ]
    },
    {
      "cell_type": "code",
      "source": [
        "sns.heatmap(cm, annot=True, fmt='d', cmap='YlGnBu')"
      ],
      "metadata": {
        "id": "mM99Y3wj0_oX",
        "colab": {
          "base_uri": "https://localhost:8080/",
          "height": 447
        },
        "outputId": "92edfafe-8ac3-4502-a77c-f7dc0301febd"
      },
      "execution_count": null,
      "outputs": [
        {
          "output_type": "execute_result",
          "data": {
            "text/plain": [
              "<Axes: >"
            ]
          },
          "metadata": {},
          "execution_count": 120
        },
        {
          "output_type": "display_data",
          "data": {
            "text/plain": [
              "<Figure size 640x480 with 2 Axes>"
            ],
            "image/png": "[encoded data removed]"
          },
          "metadata": {}
        }
      ]
    },
    {
      "cell_type": "markdown",
      "source": [
        "---\n",
        "**Precision**\n",
        "\n",
        "Precision can be defined as the percentage of correctly predicted positive outcomes out of all the predicted positive outcomes. It can be given as the ratio of true positives (TP) to the sum of true and false positives (TP + FP).\n",
        "\n",
        "---\n",
        "\n",
        "**Recall**\n",
        "\n",
        "Recall can be defined as the percentage of correctly predicted positive outcomes out of all the actual positive outcomes. It can be given as the ratio of true positives (TP) to the sum of true positives and false negatives (TP + FN). Recall is also called Sensitivity.\n",
        "\n",
        "\n",
        "---\n",
        "\n",
        "\n",
        "**f1-score**\n",
        "\n",
        "\n",
        "f1-score is the weighted harmonic mean of precision and recall. The best possible f1-score would be 1.0 and the worst would be 0.0. f1-score is the harmonic mean of precision and recall. So, f1-score is always lower than accuracy measures as they embed precision and recall into their computation. The weighted average of f1-score should be used to compare classifier models, not global accuracy.\n",
        "\n",
        "\n",
        "---\n",
        "\n",
        "**Support**\n",
        "\n",
        "Support is the actual number of occurrences of the class in our dataset.\n",
        "\n",
        "---"
      ],
      "metadata": {
        "id": "q_67dQLO13Fp"
      }
    },
    {
      "cell_type": "code",
      "source": [
        "print(classification_report(y_test, predicted))"
      ],
      "metadata": {
        "id": "HmJIF3mK1bb4",
        "colab": {
          "base_uri": "https://localhost:8080/"
        },
        "outputId": "b6fa5ecd-fba4-41e1-e145-78ffb41ac5d1"
      },
      "execution_count": null,
      "outputs": [
        {
          "output_type": "stream",
          "name": "stdout",
          "text": [
            "              precision    recall  f1-score   support\n",
            "\n",
            "           0       0.96      1.00      0.98        54\n",
            "           1       1.00      0.94      0.97        32\n",
            "\n",
            "    accuracy                           0.98        86\n",
            "   macro avg       0.98      0.97      0.97        86\n",
            "weighted avg       0.98      0.98      0.98        86\n",
            "\n"
          ]
        }
      ]
    }
  ]
}