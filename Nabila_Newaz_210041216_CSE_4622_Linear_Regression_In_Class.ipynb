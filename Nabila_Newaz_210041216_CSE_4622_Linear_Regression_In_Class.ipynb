{
  "nbformat": 4,
  "nbformat_minor": 0,
  "metadata": {
    "colab": {
      "provenance": [],
      "include_colab_link": true
    },
    "kernelspec": {
      "name": "python3",
      "display_name": "Python 3"
    },
    "language_info": {
      "name": "python"
    }
  },
  "cells": [
    {
      "cell_type": "markdown",
      "metadata": {
        "id": "view-in-github",
        "colab_type": "text"
      },
      "source": [
        "<a href=\"https://colab.research.google.com/github/nabilanewaz/ML/blob/main/Nabila_Newaz_210041216_CSE_4622_Linear_Regression_In_Class.ipynb\" target=\"_parent\"><img src=\"https://colab.research.google.com/assets/colab-badge.svg\" alt=\"Open In Colab\"/></a>"
      ]
    },
    {
      "cell_type": "markdown",
      "source": [
        "# <font color=\"red\"> ** Optional : Make A COPY **"
      ],
      "metadata": {
        "id": "DZsWrDWq8M17"
      }
    },
    {
      "cell_type": "markdown",
      "source": [
        "# <font color = \"orange\"> Today's Topics:\n",
        "1. ``` class ``` in Python\n",
        "2. Data Preprocessing\n",
        "3. Linear Regression\n",
        "\n",
        "  i.  Univariate\n",
        "\n",
        "  ii. Multivariate\n",
        "\n"
      ],
      "metadata": {
        "id": "UqioE8t-U1X3"
      }
    },
    {
      "cell_type": "markdown",
      "source": [
        "# <font color = \"orange\" > ```class``` in Python\n",
        "* constructor ```__init__()```\n",
        "* ```self```\n",
        "\n",
        "  * every method takes ``` self ```\n",
        "  * difference beetween ``` age ``` and ``` self.age ```"
      ],
      "metadata": {
        "id": "fNywF7a6U7h3"
      }
    },
    {
      "cell_type": "code",
      "source": [
        "class myClass:\n",
        "  def __init__(self):\n",
        "     print(\"This is a constructor\")\n",
        "\n",
        "  def myFunction(self, y):\n",
        "    print(\"This is a function\")\n",
        "    self.y = y\n",
        "    print(y)\n",
        "    print(self.y)\n",
        "\n",
        "  def anotherFunction(self, y):\n",
        "    #print(y)\n",
        "    print(self.y)\n",
        "\n",
        "obj = myClass()\n",
        "obj.myFunction(10)\n",
        "obj.anotherFunction(10)"
      ],
      "metadata": {
        "id": "j7Lcby-QzVmw",
        "colab": {
          "base_uri": "https://localhost:8080/"
        },
        "outputId": "c113b23d-fc23-4f5b-8d79-81f81ff974aa"
      },
      "execution_count": 5,
      "outputs": [
        {
          "output_type": "stream",
          "name": "stdout",
          "text": [
            "This is a constructor\n",
            "This is a function\n",
            "10\n",
            "10\n",
            "10\n"
          ]
        }
      ]
    },
    {
      "cell_type": "markdown",
      "source": [
        "#### <font color=\"lime\"> TODO: creating ```class``` in Python\n",
        "\n",
        "* Create a class for **Person**\n",
        "* with attributes **name**, **age**\n",
        "* constructor and method **printinfo()**\n",
        "\n",
        "** Note:\n",
        "* every method takes ``` self ```\n",
        "* difference beetween ``` age ``` and ``` self.age ```"
      ],
      "metadata": {
        "id": "rrF8YsU-fAat"
      }
    },
    {
      "cell_type": "code",
      "source": [
        "class Person:\n",
        "  def __init__(self, name, age):\n",
        "    self.name = name\n",
        "    self.age = age\n",
        "\n",
        "  def printinfo(self):\n",
        "    print(self.name, self.age)\n",
        "\n",
        "aboutme = Person(\"Nabila\", 23)\n",
        "aboutme.printinfo()\n",
        "\n",
        "age = int(input())\n",
        "print(age - aboutme.age)\n"
      ],
      "metadata": {
        "id": "C4WJj9W4Xlsr",
        "colab": {
          "base_uri": "https://localhost:8080/"
        },
        "outputId": "7b41d461-c754-454f-8330-b86199b245ac"
      },
      "execution_count": 6,
      "outputs": [
        {
          "output_type": "stream",
          "name": "stdout",
          "text": [
            "Nabila 23\n",
            "40\n",
            "17\n"
          ]
        }
      ]
    },
    {
      "cell_type": "markdown",
      "source": [
        "# <font color=\"orange\"> Linear Regression from Scratch"
      ],
      "metadata": {
        "id": "YYISKtZakNJA"
      }
    },
    {
      "cell_type": "code",
      "source": [
        "import numpy as np\n",
        "from sklearn.model_selection import train_test_split\n",
        "from sklearn import datasets\n",
        "import matplotlib.pyplot as plt"
      ],
      "metadata": {
        "id": "Gm4vAfzMniEb"
      },
      "execution_count": 7,
      "outputs": []
    },
    {
      "cell_type": "markdown",
      "source": [
        "![Screenshot 2023-01-16 at 2.26.27 PM.png](data:image/png;base64,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)"
      ],
      "metadata": {
        "id": "iU0UvWJ_sEno"
      }
    },
    {
      "cell_type": "markdown",
      "source": [
        "#### <font color=\"lime\"> TODO: create a ```class LinearRegression```\n",
        "\n",
        "* ```__init__()```:\n",
        "  * args: takes **learning rate**, **number of iterations** as arguments; you can also assign default values to these arguments\n",
        "  * declares two variables as **weights** and **bias** respectively with ```None``` value\n",
        "  * to plot the cost/error later, declare a list.\n",
        "\n",
        "* ```fit(```):\n",
        "  * args: ***X***: data (sample x feature) matrix, ***y***: labels or values\n",
        "  * from data ***X***, determine **no of samples** and **no of features** [hint: shape of X]\n",
        "  * ininitalize **weights** and **bias**\n",
        "  * for every iteration till the no of iteration:\n",
        "    * predict with current **weights** and **bias**\n",
        "    * [hints: np.dot(), np.sum(), np.mean(), transpose of X = X.T]\n",
        "    * determine **cost** / **(Mean-Squared) Error** and append to the cost list\n",
        "    * update the **weights** and **bias**\n",
        "\n",
        "* ```predict()```:\n",
        "  * args: ***X***: new data for which we want to predict\n",
        "  * predict: [hint: same as prediction from ```fit()``` method]\n",
        "  * returns: predicted value(s)\n",
        "\n",
        "* ```plot_gradientDescent()```:\n",
        "  * plots the cost (or, gradient descent) list: [hint:```plt.plot()```]\n"
      ],
      "metadata": {
        "id": "f8IjbVawbncs"
      }
    },
    {
      "cell_type": "markdown",
      "source": [
        "y = wx + b\n",
        "*   y = prediction (dim: n*1)\n",
        "*   x = (input) feature (dim: n*f)\n",
        "*   w = weight (dim: f*1)\n",
        "*   b = bias (scalar)\n",
        "*   w, b -> learning parameters\n",
        "\n",
        "Pipeline for any Machine Learning Algorithm:\n",
        "1.   Guess/Predict with current parameters\n",
        "2.   Find error\n",
        "3.   Update parameters"
      ],
      "metadata": {
        "id": "EDA9MOtdAJG-"
      }
    },
    {
      "cell_type": "code",
      "source": [
        "def mse(y_true, y_predicted):\n",
        "    return np.mean((y_true - y_predicted)**2)"
      ],
      "metadata": {
        "id": "Vg0I8ijDpWMp"
      },
      "execution_count": 13,
      "outputs": []
    },
    {
      "cell_type": "code",
      "source": [
        "class LinearRegression:\n",
        "  ## todo\n",
        "  def __init__(self, learning_rate = 0.1, no_of_iterations = 50):\n",
        "    self.learning_rate = learning_rate\n",
        "    self.no_of_iterations = no_of_iterations\n",
        "    self.weights = None\n",
        "    self.bias = None\n",
        "    self.cost_list = []\n",
        "\n",
        "  def fit(self, X, y):\n",
        "    n_samples, f_features = X.shape\n",
        "    self.weights = np.zeros(f_features)\n",
        "    self.bias = 0\n",
        "\n",
        "    for i in range(self.no_of_iterations):\n",
        "      y_predicted = np.dot(X, self.weights) + self.bias\n",
        "      cost = mse(y, y_predicted)\n",
        "      self.cost_list.append(cost)\n",
        "      dw = (1/n_samples)* np.dot(X.T, (y_predicted - y))\n",
        "      db = (1/n_samples)* np.sum(y_predicted - y)\n",
        "      self.weights -= self.learning_rate * dw\n",
        "      self.bias -= self.learning_rate * db\n",
        "\n",
        "  def predict(self, X):\n",
        "    return np.dot(X, self.weights) + self.bias\n",
        "\n",
        "  def plot_gradientDescent(self):\n",
        "    plt.plot(self.cost_list)\n",
        "    plt.xlabel(\"Iterations\")\n",
        "    plt.ylabel(\"Cost\")\n",
        "    plt.show()"
      ],
      "metadata": {
        "id": "u8xb_LwZH7EL"
      },
      "execution_count": 17,
      "outputs": []
    },
    {
      "cell_type": "markdown",
      "source": [
        "In the Linear Regression class, we have four methods:\n",
        "<ol>\n",
        "<li> Constructor (learning rate, iterations) </li>\n",
        "<li> fit (where the machine actually learns, used to actually learn from the data, fit(X_train, y_train)) </li>\n",
        "<li> predict(After learnign, we want to predict for new data. The data herw will go as test) </li>\n",
        "<li> plotting (No parameters, internally a cost list exists that will finally plot) </li>\n",
        "</ol>\n",
        "\n",
        "**self.weight = 1 why didn't we write it?**\n",
        "\n",
        "**Ans**: We avoid hardcoding self.weight = 1 because we aim to create a generalized model that can handle any number of features (i.e., multivariate regression).\n",
        "Instead of assigning a single weight (like 1), we initialize weights dynamically—usually as a vector—based on the number of input features. This makes the model scalable and adaptable to:\n",
        "\n",
        "Univariate regression (1 feature),\n",
        "\n",
        "Multivariate regression (multiple features).\n",
        "\n",
        "This generalization ensures that the model works regardless of whether you have 1 feature or 100.\n",
        "\n",
        "**The fit function**\n",
        "\n",
        "X_training data and y_training are our arguments.\n",
        "X -> for one feature and many samples, the matrix is mx1. (For n features, the matrix is mxn). The shape is requried to find out the number of samples and features. So the shape of the weight will be the number of features.\n",
        "\n",
        "For every iteration:\n",
        "1.   predict something\n",
        "2.   error made -> cost, append to the list\n",
        "3.   update for next iteration\n",
        "\n",
        "dw, db\n",
        "\n",
        "w = w - lrxdw\n",
        "b = b - lrxdb\n",
        "\n",
        "X.shape return a touple\n",
        "\n",
        "X.shape[0], X,shape[1]\n",
        "\n"
      ],
      "metadata": {
        "id": "gxht-LNCKymv"
      }
    },
    {
      "cell_type": "markdown",
      "source": [
        "# <font color=\"orange\"> Univariate Linear Regression"
      ],
      "metadata": {
        "id": "Hj-qB76XWE08"
      }
    },
    {
      "cell_type": "markdown",
      "source": [
        "### Gathering Dataset"
      ],
      "metadata": {
        "id": "eI7Il-3PWdRU"
      }
    },
    {
      "cell_type": "code",
      "source": [
        "X, y = datasets.make_regression(n_samples = 100, n_features = 1, noise = 20, random_state = 7)  # random_state == seed\n",
        "\n",
        "X_train, X_test, y_train, y_test = train_test_split(X, y, test_size = 0.2, random_state = 7)\n",
        "\n",
        "print(\"shapes: x:\", X.shape, \"\\t\\t y:\", y.shape)\n",
        "print(\"shapes: X_train:\", X_train.shape, \"\\t y_train:\" ,y_train.shape)\n",
        "print(\"shapes: X_test:\", X_test.shape, \"\\t y_test:\" , y_test.shape)"
      ],
      "metadata": {
        "id": "RkrDAcr7ngkc",
        "colab": {
          "base_uri": "https://localhost:8080/"
        },
        "outputId": "36c77099-51c5-4d13-f17f-b10873f1d1a8"
      },
      "execution_count": 18,
      "outputs": [
        {
          "output_type": "stream",
          "name": "stdout",
          "text": [
            "shapes: x: (100, 1) \t\t y: (100,)\n",
            "shapes: X_train: (80, 1) \t y_train: (80,)\n",
            "shapes: X_test: (20, 1) \t y_test: (20,)\n"
          ]
        }
      ]
    },
    {
      "cell_type": "markdown",
      "source": [
        "The data will be generated using scikitlearn, randomly,\n",
        "100 samples, 1 feature -> univariate implementation.\n",
        "Noise and random state\n",
        "We will have data x and y, from which we will split to training and test(4 set).\n",
        "\n",
        "X_train, X_test contains data\n",
        "\n",
        "Y_train, Y_test contains values"
      ],
      "metadata": {
        "id": "QZtolkb2Nw2g"
      }
    },
    {
      "cell_type": "code",
      "source": [
        "X[0:5]"
      ],
      "metadata": {
        "id": "-A23dNK1m4oH",
        "colab": {
          "base_uri": "https://localhost:8080/"
        },
        "outputId": "ab5f83ec-ce06-4547-9035-a7fdc7af9148"
      },
      "execution_count": 19,
      "outputs": [
        {
          "output_type": "execute_result",
          "data": {
            "text/plain": [
              "array([[ 0.00206557],\n",
              "       [ 0.6547057 ],\n",
              "       [-1.4506787 ],\n",
              "       [ 1.76616088],\n",
              "       [ 0.27445992]])"
            ]
          },
          "metadata": {},
          "execution_count": 19
        }
      ]
    },
    {
      "cell_type": "code",
      "source": [
        "y[0:5]"
      ],
      "metadata": {
        "id": "wZYbyK-um9PU",
        "colab": {
          "base_uri": "https://localhost:8080/"
        },
        "outputId": "5555fc5e-e391-4a59-94ee-7f6a1e5eb04b"
      },
      "execution_count": 20,
      "outputs": [
        {
          "output_type": "execute_result",
          "data": {
            "text/plain": [
              "array([  7.74874748,  48.30195813, -99.86839046, 170.69731585,\n",
              "        35.38423095])"
            ]
          },
          "metadata": {},
          "execution_count": 20
        }
      ]
    },
    {
      "cell_type": "code",
      "source": [
        "fig = plt.figure(figsize = (8,6))\n",
        "plt.scatter(X[:, 0], y, color = 'b', marker = 'o', s = 30)\n",
        "plt.show()"
      ],
      "metadata": {
        "id": "OLVD3g2nor4Y",
        "colab": {
          "base_uri": "https://localhost:8080/",
          "height": 522
        },
        "outputId": "9491c2c1-df70-49de-84f5-5f5df46b5368"
      },
      "execution_count": 22,
      "outputs": [
        {
          "output_type": "display_data",
          "data": {
            "text/plain": [
              "<Figure size 800x600 with 1 Axes>"
            ],
            "image/png": "[encoded data removed]"
          },
          "metadata": {}
        }
      ]
    },
    {
      "cell_type": "markdown",
      "source": [
        "### Running Regression"
      ],
      "metadata": {
        "id": "WKXNY7ZUWm80"
      }
    },
    {
      "cell_type": "code",
      "source": [
        "# TODO: 1. create an object for linear regression class\n",
        "# 2. run the fit() function with x train and y train\n",
        "# 3. run the predict function with x test\n",
        "\n",
        "linear = LinearRegression(learning_rate = 0.001, no_of_iterations = 10000)\n",
        "linear.fit(X_train, y_train)\n",
        "predicted = linear.predict(X_test)\n"
      ],
      "metadata": {
        "id": "e4ZFpSmDo-dw"
      },
      "execution_count": 32,
      "outputs": []
    },
    {
      "cell_type": "code",
      "source": [
        "# MEAN SQUARED ERROR  for the predicted values\n",
        "MSE = mse(y_test, predicted)  # y_test are the true values\n",
        "print(MSE)"
      ],
      "metadata": {
        "id": "-CcMKnIrpkGT",
        "colab": {
          "base_uri": "https://localhost:8080/"
        },
        "outputId": "4cb377a8-9052-435c-c01a-9dbcddb1206a"
      },
      "execution_count": 39,
      "outputs": [
        {
          "output_type": "stream",
          "name": "stdout",
          "text": [
            "387.4268402120403\n"
          ]
        }
      ]
    },
    {
      "cell_type": "code",
      "source": [
        "# TODO: plot the gradient descent\n",
        "linear.plot_gradientDescent()"
      ],
      "metadata": {
        "id": "bw2EQ_QQoItk",
        "colab": {
          "base_uri": "https://localhost:8080/",
          "height": 449
        },
        "outputId": "45996c52-fb2b-461a-9276-b614b01ea0a8"
      },
      "execution_count": 40,
      "outputs": [
        {
          "output_type": "display_data",
          "data": {
            "text/plain": [
              "<Figure size 640x480 with 1 Axes>"
            ],
            "image/png": "[encoded data removed]"
          },
          "metadata": {}
        }
      ]
    },
    {
      "cell_type": "markdown",
      "source": [
        "### visualization : see how the line fits"
      ],
      "metadata": {
        "id": "hDqX42nxnIIx"
      }
    },
    {
      "cell_type": "code",
      "source": [
        "def draw_line (X_train, y_train, X_test, y_test, y_predicted):\n",
        "    cmap = plt.get_cmap('viridis')\n",
        "    fig = plt.figure(figsize = (8,6))\n",
        "    m1 = plt.scatter(X_train, y_train, color = cmap(0.9), s =10)\n",
        "    m2 = plt.scatter(X_test, y_test, color = cmap(0.5), s =10)\n",
        "    plt.plot(X_test, y_predicted, color = 'black', linewidth = 2, label = 'prediction')\n",
        "    plt.show()"
      ],
      "metadata": {
        "id": "lAN7rJczpo2E"
      },
      "execution_count": 35,
      "outputs": []
    },
    {
      "cell_type": "code",
      "source": [
        "draw_line(X_train, y_train, X_test, y_test, predicted)"
      ],
      "metadata": {
        "id": "ub6Qxgifq9jK",
        "colab": {
          "base_uri": "https://localhost:8080/",
          "height": 522
        },
        "outputId": "861fac1b-4fea-4923-aab9-464a1675efb1"
      },
      "execution_count": 36,
      "outputs": [
        {
          "output_type": "display_data",
          "data": {
            "text/plain": [
              "<Figure size 800x600 with 1 Axes>"
            ],
            "image/png": "[encoded data removed]"
          },
          "metadata": {}
        }
      ]
    },
    {
      "cell_type": "markdown",
      "source": [
        "# <font color=\"orange\"> Multivariate Linear Regression"
      ],
      "metadata": {
        "id": "lK6tV0OkV1qm"
      }
    },
    {
      "cell_type": "markdown",
      "source": [
        "# <font color = \"orange\"> Car Price Prediction"
      ],
      "metadata": {
        "id": "l0gfsMdGqtEQ"
      }
    },
    {
      "cell_type": "markdown",
      "source": [
        "## Importing Libraries and Downloading Data"
      ],
      "metadata": {
        "id": "8Zk5YryPqxFO"
      }
    },
    {
      "cell_type": "code",
      "source": [
        "import pandas as pd\n",
        "import seaborn as sns\n",
        "!gdown 1m_uJkaKZvX24wdyAjXFIxTUY3SIawaCF"
      ],
      "metadata": {
        "id": "1K5CARlFrD9T"
      },
      "execution_count": null,
      "outputs": []
    },
    {
      "cell_type": "markdown",
      "source": [
        "## Reading and Understanding Data"
      ],
      "metadata": {
        "id": "6l5i1DrgrH2a"
      }
    },
    {
      "cell_type": "code",
      "source": [
        "data = pd.read_csv(\"/content/CarPrice.csv\")\n",
        "data.head()"
      ],
      "metadata": {
        "id": "z7oabbACrD3i"
      },
      "execution_count": null,
      "outputs": []
    },
    {
      "cell_type": "code",
      "source": [
        "data.shape"
      ],
      "metadata": {
        "id": "xPSLmzBXrP2D"
      },
      "execution_count": null,
      "outputs": []
    },
    {
      "cell_type": "code",
      "source": [
        "data.describe()"
      ],
      "metadata": {
        "id": "YwZ3TSq8rVNk"
      },
      "execution_count": null,
      "outputs": []
    },
    {
      "cell_type": "code",
      "source": [
        "data.info()"
      ],
      "metadata": {
        "id": "KBv-3R5yrW-8"
      },
      "execution_count": null,
      "outputs": []
    },
    {
      "cell_type": "code",
      "source": [
        "data.columns"
      ],
      "metadata": {
        "id": "r2kCUv2CsBtw"
      },
      "execution_count": null,
      "outputs": []
    },
    {
      "cell_type": "markdown",
      "source": [
        "## Data Cleaning"
      ],
      "metadata": {
        "id": "lOp6dCR5rlIV"
      }
    },
    {
      "cell_type": "markdown",
      "source": [
        "### Splitting company name from CarName column\n",
        "idea: car price depends on the Brand/ Company name"
      ],
      "metadata": {
        "id": "d2zh0JCyrsTm"
      }
    },
    {
      "cell_type": "code",
      "source": [
        "carnames = data['CarName']\n",
        "CompanyNames = []\n",
        "\n",
        "for carname in carnames:\n",
        "    brand = carname.split(\" \")[0]\n",
        "    CompanyNames.append(brand)\n",
        "\n",
        "data.drop(['CarName'], axis = 1, inplace = True)\n",
        "data.insert(3, \"CompanyName\", CompanyNames)\n",
        "\n",
        "data.head()"
      ],
      "metadata": {
        "id": "6YF-UURgrfFV"
      },
      "execution_count": null,
      "outputs": []
    },
    {
      "cell_type": "code",
      "source": [
        "data.CompanyName = data.CompanyName.str.lower()"
      ],
      "metadata": {
        "id": "zoUhq9jLtvZ1"
      },
      "execution_count": null,
      "outputs": []
    },
    {
      "cell_type": "code",
      "source": [
        "data.CompanyName.unique()"
      ],
      "metadata": {
        "id": "e2GdE8RVsIxy"
      },
      "execution_count": null,
      "outputs": []
    },
    {
      "cell_type": "markdown",
      "source": [
        "#### Fixing invalid values\n",
        "- There seems to be some spelling error in the CompanyName column.\n",
        "\n",
        "    - `maxda` = `mazda`\n",
        "    - `porsche` = `porcshce`\n",
        "    - `toyota` = `toyouta`\n",
        "    - `vokswagen` = `volkswagen` =  `vw`"
      ],
      "metadata": {
        "id": "6AxF9Qgltg8M"
      }
    },
    {
      "cell_type": "code",
      "source": [
        "def replace_name(a, b):\n",
        "    data.CompanyName.replace(a, b, inplace = True)\n",
        "\n",
        "replace_name('maxda','mazda')\n",
        "replace_name('porcshce','porsche')\n",
        "replace_name('toyouta','toyota')\n",
        "replace_name('vokswagen','volkswagen')\n",
        "replace_name('vw','volkswagen')\n",
        "\n",
        "data.CompanyName.unique()"
      ],
      "metadata": {
        "id": "kAQ__OQitPN6"
      },
      "execution_count": null,
      "outputs": []
    },
    {
      "cell_type": "markdown",
      "source": [
        "#### Checking for duplicate entries"
      ],
      "metadata": {
        "id": "lbsLL847uSu6"
      }
    },
    {
      "cell_type": "code",
      "source": [
        "data.loc[data.duplicated()]"
      ],
      "metadata": {
        "id": "RyjmJ_5nuLIp"
      },
      "execution_count": null,
      "outputs": []
    },
    {
      "cell_type": "markdown",
      "source": [
        "## Visualizing the data"
      ],
      "metadata": {
        "id": "1UBn-htSutvW"
      }
    },
    {
      "cell_type": "markdown",
      "source": [
        "### Categorical Data"
      ],
      "metadata": {
        "id": "rrPr6Rprw0ca"
      }
    },
    {
      "cell_type": "code",
      "source": [
        "plt.figure(figsize=(20,8))\n",
        "\n",
        "plt.subplot(1,2,1)\n",
        "plt.title('Car Price Distribution')\n",
        "sns.distplot(data.price)\n",
        "\n",
        "plt.subplot(1,2,2)\n",
        "plt.title('Car Price Spread')\n",
        "sns.boxplot(y=data.price)\n",
        "\n",
        "plt.show()"
      ],
      "metadata": {
        "id": "V3sX6T_puXYy"
      },
      "execution_count": null,
      "outputs": []
    },
    {
      "cell_type": "code",
      "source": [
        "plt.figure(figsize=(25, 6))\n",
        "\n",
        "plt.subplot(1,3,1)\n",
        "plt1 = data.CompanyName.value_counts().plot(kind = 'bar')\n",
        "plt.title('Companies Histogram')\n",
        "plt1.set(xlabel = 'Car company', ylabel='Frequency of company')\n",
        "\n",
        "plt.subplot(1,3,2)\n",
        "plt1 = data.fueltype.value_counts().plot(kind = 'bar')\n",
        "plt.title('Fuel Type Histogram')\n",
        "plt1.set(xlabel = 'Fuel Type', ylabel='Frequency of fuel type')\n",
        "\n",
        "plt.subplot(1,3,3)\n",
        "plt1 = data.carbody.value_counts().plot(kind = 'bar')\n",
        "plt.title('Car Type Histogram')\n",
        "plt1.set(xlabel = 'Car Type', ylabel='Frequency of Car type')\n",
        "\n",
        "plt.show()"
      ],
      "metadata": {
        "id": "n8ssJ_nbu0pe"
      },
      "execution_count": null,
      "outputs": []
    },
    {
      "cell_type": "code",
      "source": [
        "plt.figure(figsize=(20,8))\n",
        "\n",
        "plt.subplot(1,2,1)\n",
        "plt.title('Engine Type Histogram')\n",
        "sns.countplot(data.enginetype, palette=(\"Blues_d\"))\n",
        "\n",
        "plt.subplot(1,2,2)\n",
        "plt.title('Engine Type vs Price')\n",
        "sns.boxplot(x=data.enginetype, y=data.price, palette=(\"PuBuGn\"))\n",
        "\n",
        "plt.show()\n",
        "\n",
        "df = pd.DataFrame(data.groupby(['enginetype'])['price'].mean().sort_values(ascending = False))\n",
        "df.plot.bar(figsize=(8,6))\n",
        "plt.title('Engine Type vs Average Price')\n",
        "plt.show()"
      ],
      "metadata": {
        "id": "8z56yj7ivXN7"
      },
      "execution_count": null,
      "outputs": []
    },
    {
      "cell_type": "code",
      "source": [
        "plt.figure(figsize=(25, 6))\n",
        "\n",
        "df = pd.DataFrame(data.groupby(['CompanyName'])['price'].mean().sort_values(ascending = False))\n",
        "df.plot.bar()\n",
        "plt.title('Company Name vs Average Price')\n",
        "plt.show()\n",
        "\n",
        "df = pd.DataFrame(data.groupby(['fueltype'])['price'].mean().sort_values(ascending = False))\n",
        "df.plot.bar()\n",
        "plt.title('Fuel Type vs Average Price')\n",
        "plt.show()\n",
        "\n",
        "df = pd.DataFrame(data.groupby(['carbody'])['price'].mean().sort_values(ascending = False))\n",
        "df.plot.bar()\n",
        "plt.title('Car Type vs Average Price')\n",
        "plt.show()"
      ],
      "metadata": {
        "id": "8RbvPPIJv8lP"
      },
      "execution_count": null,
      "outputs": []
    },
    {
      "cell_type": "code",
      "source": [
        "plt.figure(figsize=(15,5))\n",
        "\n",
        "plt.subplot(1,2,1)\n",
        "plt.title('Door Number Histogram')\n",
        "sns.countplot(data.doornumber, palette=(\"plasma\"))\n",
        "\n",
        "plt.subplot(1,2,2)\n",
        "plt.title('Door Number vs Price')\n",
        "sns.boxplot(x=data.doornumber, y=data.price, palette=(\"plasma\"))\n",
        "\n",
        "plt.show()"
      ],
      "metadata": {
        "id": "jXGQ27CUwoZz"
      },
      "execution_count": null,
      "outputs": []
    },
    {
      "cell_type": "markdown",
      "source": [
        "### Numerical Data"
      ],
      "metadata": {
        "id": "FKpQbJddw3va"
      }
    },
    {
      "cell_type": "code",
      "source": [
        "def scatter(x,fig):\n",
        "    plt.subplot(5,2,fig)\n",
        "    plt.scatter(data[x],data['price'])\n",
        "    plt.title(x+' vs Price')\n",
        "    plt.ylabel('Price')\n",
        "    plt.xlabel(x)\n",
        "\n",
        "plt.figure(figsize=(15,30))\n",
        "\n",
        "scatter('carlength', 1)\n",
        "scatter('carwidth', 2)\n",
        "scatter('carheight', 3)"
      ],
      "metadata": {
        "id": "jSkYiJyhwobL"
      },
      "execution_count": null,
      "outputs": []
    },
    {
      "cell_type": "markdown",
      "source": [
        "Car-length and Car-width seems to have positive correlation with price."
      ],
      "metadata": {
        "id": "kGb3SiTsxYDN"
      }
    },
    {
      "cell_type": "code",
      "source": [
        "data.head()"
      ],
      "metadata": {
        "id": "XyLRHl-WxEVb"
      },
      "execution_count": null,
      "outputs": []
    },
    {
      "cell_type": "markdown",
      "source": [
        "## Dummy Variables\n",
        "idea: converting categories to their own features.\n",
        "\n",
        "i.e. there are 2 fueltypes - diesel and gas.\n",
        "\n",
        "approach 1: embed diesel to 0 and gas to 1\n",
        "\n",
        "approach 2: create 2 new vectors called 'diesel' and 'gas' and have 0/1 values for having/not having that fuel"
      ],
      "metadata": {
        "id": "pxy2McR7lGTk"
      }
    },
    {
      "cell_type": "code",
      "source": [
        "data.dtypes"
      ],
      "metadata": {
        "id": "P8sehsKhyCLi"
      },
      "execution_count": null,
      "outputs": []
    },
    {
      "cell_type": "code",
      "source": [
        "data.fueltype.unique()"
      ],
      "metadata": {
        "id": "N2x3Zbs5k5W5"
      },
      "execution_count": null,
      "outputs": []
    },
    {
      "cell_type": "code",
      "source": [
        "data['fueltype'].tail()"
      ],
      "metadata": {
        "id": "mfJc2HRbwaXc"
      },
      "execution_count": null,
      "outputs": []
    },
    {
      "cell_type": "code",
      "source": [
        "# converting categories to their own features. i.e. there are 2 fueltypes - diesel and gas.\n",
        "# approach 1: embed diesel to 0 and gas to 1\n",
        "# approach 2: create 2 new vectors called 'diesel' and 'gas' and have 0/1 values for having/not having that fuel\n",
        "\n",
        "temp = pd.get_dummies(data['fueltype'])\n",
        "temp.head()"
      ],
      "metadata": {
        "id": "MCD8jkG4lwef"
      },
      "execution_count": null,
      "outputs": []
    },
    {
      "cell_type": "code",
      "source": [
        "def gen_dummies(column_name, df):\n",
        "    temp = pd.get_dummies(df[column_name])\n",
        "    df = pd.concat([df, temp], axis = 1)\n",
        "    df.drop([column_name], axis = 1, inplace = True)\n",
        "    return df\n",
        "\n",
        "data = gen_dummies('fueltype', data)\n",
        "data.head()"
      ],
      "metadata": {
        "id": "eC1QEFlHmDwB"
      },
      "execution_count": null,
      "outputs": []
    },
    {
      "cell_type": "code",
      "source": [
        "data.columns"
      ],
      "metadata": {
        "id": "TGAuaf-imbG8"
      },
      "execution_count": null,
      "outputs": []
    },
    {
      "cell_type": "code",
      "source": [
        "data.diesel"
      ],
      "metadata": {
        "id": "VK91ZiTkmiQ9"
      },
      "execution_count": null,
      "outputs": []
    },
    {
      "cell_type": "code",
      "source": [
        "data.gas"
      ],
      "metadata": {
        "id": "5PbwC8b9xbQD"
      },
      "execution_count": null,
      "outputs": []
    },
    {
      "cell_type": "markdown",
      "source": [
        "## Train-Test Split"
      ],
      "metadata": {
        "id": "ozWrM6dtnOn7"
      }
    },
    {
      "cell_type": "code",
      "source": [
        "data_train, data_test = train_test_split(data, train_size =0.8, test_size = 0.2, random_state = 7)"
      ],
      "metadata": {
        "id": "YhDRPAIknGzS"
      },
      "execution_count": null,
      "outputs": []
    },
    {
      "cell_type": "code",
      "source": [
        "data_train.head()"
      ],
      "metadata": {
        "id": "oZyWJ1zRnuYu"
      },
      "execution_count": null,
      "outputs": []
    },
    {
      "cell_type": "code",
      "source": [
        "## selecting only few features to learn from\n",
        "faeture_columns = ['wheelbase', 'carlength', 'horsepower', 'diesel', 'gas']\n",
        "X_train = data_train[faeture_columns].values\n",
        "X_test = data_test[faeture_columns].values\n",
        "y_train = data_train['price'].values\n",
        "y_test = data_test['price'].values\n",
        "data_train.shape"
      ],
      "metadata": {
        "id": "GA7GyRuxn8gg"
      },
      "execution_count": null,
      "outputs": []
    },
    {
      "cell_type": "code",
      "source": [
        "X_train"
      ],
      "metadata": {
        "id": "lbu6l7NIojcF"
      },
      "execution_count": null,
      "outputs": []
    },
    {
      "cell_type": "markdown",
      "source": [
        "## Training and Evaluation"
      ],
      "metadata": {
        "id": "3k50pGhSp0UZ"
      }
    },
    {
      "cell_type": "code",
      "source": [
        "# TODO: 1. create an objest for linear regression class\n",
        "# 2. run the fit() function with x train and y train\n",
        "# 3. run the predict function with x test"
      ],
      "metadata": {
        "id": "bY58jYxXp3Oh"
      },
      "execution_count": null,
      "outputs": []
    },
    {
      "cell_type": "code",
      "source": [
        "mse(predicted, y_test)"
      ],
      "metadata": {
        "id": "GTpiKgmXpC6Z"
      },
      "execution_count": null,
      "outputs": []
    },
    {
      "cell_type": "code",
      "source": [
        "# TODO: plot the gradient descent"
      ],
      "metadata": {
        "id": "ItGQWIyGqdFk"
      },
      "execution_count": null,
      "outputs": []
    },
    {
      "cell_type": "code",
      "source": [],
      "metadata": {
        "id": "Ae7FArTbx4R6"
      },
      "execution_count": null,
      "outputs": []
    },
    {
      "cell_type": "code",
      "source": [],
      "metadata": {
        "id": "YMWORm_OyNLy"
      },
      "execution_count": null,
      "outputs": []
    }
  ]
}